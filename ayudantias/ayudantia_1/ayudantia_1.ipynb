{
 "cells": [
  {
   "cell_type": "markdown",
   "metadata": {},
   "source": [
    "# Intro a Python, SQL y Git"
   ]
  },
  {
   "cell_type": "markdown",
   "metadata": {},
   "source": [
    "### 1. Intro a Python"
   ]
  },
  {
   "cell_type": "markdown",
   "metadata": {},
   "source": [
    "Python es uno de los lenguajes de programación más populares para DS y ML. Fue creado por Guido van Rossum quien lo publicó en 1991.\n",
    "\n",
    "Por qué usamos Python?\n",
    "\n",
    "- Tiene una sintaxis simple, similar al Inglés\n",
    "- Nos permite realizar las mismas tareas que otros lenguajes con menos líneas de código\n",
    "- Es un lenguaje interpretado, lo que nos permite testear rápidamente\n",
    "- Tiene una gran comunidad que crea y mantiene librerías que nos van a simplificar la vida"
   ]
  },
  {
   "cell_type": "markdown",
   "metadata": {},
   "source": [
    "#### 1.1 Sintáxis"
   ]
  },
  {
   "cell_type": "markdown",
   "metadata": {},
   "source": [
    "##### Indentación\n",
    "Indentación se refiere a los espacios en blanco al principio de una línea de código.\n",
    "\n",
    "Python, a diferencia de otros lenguajes de programación, se basa en la indentación para definir bloques de código"
   ]
  },
  {
   "cell_type": "code",
   "execution_count": null,
   "metadata": {},
   "outputs": [],
   "source": [
    "# Para usar un if correctamente debemos respetar la indentación:\n",
    "if 1 > 0:\n",
    "    print(\"True\") # La indentación le indica a Python que este bloque de código está un nivel más abajo que el previo"
   ]
  },
  {
   "cell_type": "code",
   "execution_count": null,
   "metadata": {},
   "outputs": [],
   "source": [
    "# Si no la respetamos, nos va a arrojar un error\n",
    "if 1 > 0:\n",
    "print(\"True\")"
   ]
  },
  {
   "cell_type": "markdown",
   "metadata": {},
   "source": [
    "##### Creación de variables\n",
    "Para crear una variable simplemente le asignamos un valor:"
   ]
  },
  {
   "cell_type": "code",
   "execution_count": null,
   "metadata": {},
   "outputs": [],
   "source": [
    "x = 5\n",
    "y = 1\n",
    "print(\"x =\", x, \"; y =\", y)"
   ]
  },
  {
   "cell_type": "markdown",
   "metadata": {},
   "source": [
    "##### Comentarios\n",
    "Los comentarios son muy importantes en programación para que otros entiendan nuestro código (esto incluye a su yo del futuro)\\\n",
    "Para insertar comentarios en su código simplemente usen el signo ```#```:"
   ]
  },
  {
   "cell_type": "code",
   "execution_count": null,
   "metadata": {},
   "outputs": [],
   "source": [
    "# Este es un comentario"
   ]
  },
  {
   "cell_type": "markdown",
   "metadata": {},
   "source": [
    "#### 1.2 Tipos de dato y Operadores"
   ]
  },
  {
   "cell_type": "markdown",
   "metadata": {},
   "source": [
    "##### Numéricos\n",
    "\n",
    "En Python tenemos dos tipos de datos numéricos básicos ```int```, para números enteros, y ```float```, para números decimales.\n",
    "\n",
    "Los operadores básicos que tenemos para trabajar con números son:\n",
    "- ```+```: Suma\n",
    "- ```-```: Resta\n",
    "- ```*```: Multiplicación\n",
    "- ```/```: División\n",
    "- ```**```: Potenciación\n",
    "- ```//```: Cociente\n",
    "- ```%```: Módulo (o resto)\n",
    "\n",
    "Podemos mezclar variables de tipo ```int``` y ```float``` al trabajar. Si es así, el resultado siempre será de tipo ```float```."
   ]
  },
  {
   "cell_type": "code",
   "execution_count": null,
   "metadata": {},
   "outputs": [],
   "source": [
    "x = 4\n",
    "y = 5.0\n",
    "print(\"x tiene valor\", x, \"y es de tipo\", type(x)) # La función type nos entrega el tipo de dato de una variable\n",
    "print(\"y tiene valor\", x, \"y es de tipo\", type(y))\n",
    "print(\"Suma:\", x+y)\n",
    "print(\"Resta:\", x-y)\n",
    "print(\"Multiplicación:\", x*y)\n",
    "print(\"División:\", x/y)\n",
    "print(\"Potenciación:\", x**y)\n",
    "print(\"Cociente:\", x//y)\n",
    "print(\"Resto:\", y%x)"
   ]
  },
  {
   "cell_type": "markdown",
   "metadata": {},
   "source": [
    "##### Booleanos\n",
    "\n",
    "Python también nos permite tener datos de tipo Booleano y usar los operadores lógicos clásicos:\n",
    "- ```and```: Y\n",
    "- ```or```: O\n",
    "- ```not```: Negación\n",
    "\n",
    "Ademas, para comparar dos variables y obtener un resultado booleano tenemos los operadores:\n",
    "- ```==```: Igual\n",
    "- ```!=```: Distinto"
   ]
  },
  {
   "cell_type": "code",
   "execution_count": null,
   "metadata": {},
   "outputs": [],
   "source": [
    "t, f = True, False\n",
    "print(type(t))"
   ]
  },
  {
   "cell_type": "code",
   "execution_count": null,
   "metadata": {},
   "outputs": [],
   "source": [
    "print(t == f)  # Igual;\n",
    "print(t != f)  # Distinto;\n",
    "\n",
    "print(t and f) # Y = AND; &\n",
    "print(t or f)  # O = OR; |\n",
    "print(not t)   # NO = NOT;\n",
    "print(not (t or f)) # Negación de una proposición más compleja"
   ]
  },
  {
   "cell_type": "markdown",
   "metadata": {},
   "source": [
    "##### Strings (Cadenas de texto)\n",
    "\n",
    "El tipo de dato String en Python nos permite almacenar texto. \\\n",
    "Para crear un String debemos escribir entre comillas ```\"...\"``` el texto que queremos asignarle. También podemos usar comillas simple ```'...'```, lo importante es que sean las mismas al iniciar y terminar el texto."
   ]
  },
  {
   "cell_type": "code",
   "execution_count": null,
   "metadata": {},
   "outputs": [],
   "source": [
    "hola = \"Hola\"\n",
    "mundo = 'Mundo!'\n",
    "print(hola)\n",
    "print(mundo)"
   ]
  },
  {
   "cell_type": "markdown",
   "metadata": {},
   "source": [
    "Python nos permite concatenar (unir) dos Strings de forma fácil. \\"
   ]
  },
  {
   "cell_type": "code",
   "execution_count": null,
   "metadata": {},
   "outputs": [],
   "source": [
    "hola_mundo = hola + \" \" + mundo\n",
    "print(hola_mundo)"
   ]
  },
  {
   "cell_type": "markdown",
   "metadata": {},
   "source": [
    "Pero cuidado con querer concatenar un String con otro tipo de dato!"
   ]
  },
  {
   "cell_type": "code",
   "execution_count": null,
   "metadata": {},
   "outputs": [],
   "source": [
    "x = 5\n",
    "valor = \"X tiene un valor de \"\n",
    "print(valor + x)"
   ]
  },
  {
   "cell_type": "markdown",
   "metadata": {},
   "source": [
    "Si queremos usar el valor de una variable de tipo distinto a String dentro un String podemos usar un ```f-string```:\\\n",
    "Debemos anteponer una ```f``` a las comillas e insertar la variable dentro del texto entre llaves ```{...}```"
   ]
  },
  {
   "cell_type": "code",
   "execution_count": null,
   "metadata": {},
   "outputs": [],
   "source": [
    "valor = f\"X tiene un valor de {x}\"\n",
    "print(valor)"
   ]
  },
  {
   "cell_type": "markdown",
   "metadata": {},
   "source": [
    "Los Strings tienen muchos métodos útiles como:\n",
    "- capitalize(): Convierte la primera letra en mayúscula\n",
    "- upper(): Convierte todas las letras en mayúscula\n",
    "- lower(): Convierte todas las letras en minúscula\n",
    "- strip(x): Elimina el caracter que le entreguemos como argumento ```x``` del inicio y final del String (Si no le entregamos un argumento elimina los espacios en blanco)\\\n",
    "Para más métodos pueden visitar: https://www.w3schools.com/python/python_strings_methods.asp"
   ]
  },
  {
   "cell_type": "code",
   "execution_count": null,
   "metadata": {},
   "outputs": [],
   "source": [
    "s = \"hOlA mUnDo\"\n",
    "print(s.capitalize())  # Convierte la primera letra en mayúscula\n",
    "print(s.upper())       # Convierte toda la cadena a mayúsculas\n",
    "print(s.lower())       # Convierte toda la cadena a minúsculas\n",
    "print('___world__'.strip('_'))  # Elimina los espacios en blanco iniciales y finales"
   ]
  },
  {
   "cell_type": "markdown",
   "metadata": {},
   "source": [
    "#### 1.3 Colecciones (Collections)\n",
    "Las Colecciones en Python nos permiten guardar múltiples valores en una sola variables.\\\n",
    "Hay 4 tipos de Colecciones que vienen por defecto con Python: \n",
    "- Listas (List)\n",
    "- Diccionarios (Dictionary)\n",
    "- Tuplas (Tuple)\n",
    "- Conjuntos (Set)\\\n",
    "\n",
    "Pero por ahora solo veremos los primeros dos."
   ]
  },
  {
   "cell_type": "markdown",
   "metadata": {},
   "source": [
    "##### Listas (List)\n",
    "\n",
    "Las Listas nos permiten guardar múltiples datos de distintos tipos en una sola variable.\n",
    "\n",
    "Para crear una lista debemos declararla usando corchetes ```[]```. Si queremos agregar elementos al momento de crearla, debemos separarlos usando ```,```.\n",
    "\n",
    "Las Listas son conjuntos ordenados (mantienen el orden con el que vamos agregando elementos), mutables (podemos agregar, eliminar o cambiar los valores de elementos ya agregados) y nos permiten tener elementos duplicados.\n",
    "\n",
    "Además, las Listas son indexadas, por lo que podemos acceder a elementos específicos a través de su índice (los índices parten desde 0!)"
   ]
  },
  {
   "cell_type": "code",
   "execution_count": null,
   "metadata": {},
   "outputs": [],
   "source": [
    "my_list = [] # Crea una lista vacía\n",
    "print(my_list)"
   ]
  },
  {
   "cell_type": "code",
   "execution_count": null,
   "metadata": {},
   "outputs": [],
   "source": [
    "my_list = [1,2,3,4,5] # Crea una lista poblada\n",
    "print(my_list)"
   ]
  },
  {
   "cell_type": "code",
   "execution_count": null,
   "metadata": {},
   "outputs": [],
   "source": [
    "my_list.append('hola') # Agregar un elemento al final de la lista\n",
    "print(my_list)"
   ]
  },
  {
   "cell_type": "code",
   "execution_count": null,
   "metadata": {},
   "outputs": [],
   "source": [
    "my_list.remove(3) # Borra la primera ocurrencia de un valor dentro de la lista\n",
    "print(my_list)"
   ]
  },
  {
   "cell_type": "code",
   "execution_count": null,
   "metadata": {},
   "outputs": [],
   "source": [
    "print(my_list[2]) # Acceder al 3er elemento de la lista"
   ]
  },
  {
   "cell_type": "code",
   "execution_count": null,
   "metadata": {},
   "outputs": [],
   "source": [
    "print(my_list[-1]) # Acceder al último elemento de la lista"
   ]
  },
  {
   "cell_type": "markdown",
   "metadata": {},
   "source": [
    "Además de acceder a los elementos de la lista de uno en uno, Python proporciona una sintaxis concisa para acceder a sublistas; esto se conoce como ```slicing```:"
   ]
  },
  {
   "cell_type": "code",
   "execution_count": null,
   "metadata": {},
   "outputs": [],
   "source": [
    "print(my_list[1:3]) # Acceder al 2do y 3er elemento de la lista (Python excluye el último índice que le damos en el rango)"
   ]
  },
  {
   "cell_type": "code",
   "execution_count": null,
   "metadata": {},
   "outputs": [],
   "source": [
    "print(my_list[1:-1])"
   ]
  },
  {
   "cell_type": "markdown",
   "metadata": {},
   "source": [
    "##### Diccionarios (Dictionary)\n",
    "\n",
    "Los diccionarios nos permiten guardar distintos pares de llave-valor en una sola variable.\n",
    "\n",
    "Para crear un diccionario debemos declararlo usando llaves ```{}```. Si queremos agregar elementos al momento de crearlo, debemos declararlos como ```llave: valor``` y separarlos usando ```,```.\n",
    "\n",
    "Los Diccionarios son conjuntos ordenados (desde Python 3.7 en adelante), mutables (podemos agregar, eliminar o cambiar los valores de pares ya agregados) y NO nos permiten tener llaves duplicadas."
   ]
  },
  {
   "cell_type": "code",
   "execution_count": null,
   "metadata": {},
   "outputs": [],
   "source": [
    "my_dict = {} # Crea un diccionario vacío\n",
    "print(my_dict)"
   ]
  },
  {
   "cell_type": "code",
   "execution_count": null,
   "metadata": {},
   "outputs": [],
   "source": [
    "my_dict = {'llave_1': 'valor_1', 'llave_2': 'valor_2'} # Crea un diccionario vacío\n",
    "print(my_dict)"
   ]
  },
  {
   "cell_type": "code",
   "execution_count": null,
   "metadata": {},
   "outputs": [],
   "source": [
    "my_dict['llave_3'] = 'valor_3' # Agregar un par llave-valor al final del diccionario\n",
    "print(my_dict)"
   ]
  },
  {
   "cell_type": "code",
   "execution_count": null,
   "metadata": {},
   "outputs": [],
   "source": [
    "my_dict['llave_2'] = 'valor_2.1' # Si la llave ya existe, se modifica el valor\n",
    "print(my_dict)"
   ]
  },
  {
   "cell_type": "code",
   "execution_count": null,
   "metadata": {},
   "outputs": [],
   "source": [
    "print(my_dict['llave_2']) # Acceder a un valor del diccionario"
   ]
  },
  {
   "cell_type": "markdown",
   "metadata": {},
   "source": [
    "#### 1.4 Control de Flujo y Bucles (Loops)"
   ]
  },
  {
   "cell_type": "markdown",
   "metadata": {},
   "source": [
    "##### Control de Flujo\n",
    "\n",
    "Para controlar el flujo de nuestro código dependiendo de condiciones que queramos definir podemos utilizar un bloque if-else\n",
    "```\n",
    "    if condition_1:\n",
    "        result_1\n",
    "    elif condition_2:\n",
    "        result_2\n",
    "    else:\n",
    "        default_result\n",
    "```\n",
    "\n",
    "Este bloque nos entregará ```result_1``` si la ```condtion_1``` se cumple, ```result_2``` si la ```condtion_2``` Y la ```condition_1``` no se cumple o ```default_result``` si ni ```condtion_1``` ni ```condtion_2``` se cumplen."
   ]
  },
  {
   "cell_type": "code",
   "execution_count": null,
   "metadata": {},
   "outputs": [],
   "source": [
    "x = 5\n",
    "if x > 10:\n",
    "    print(\"x es mayor que 10\")\n",
    "elif x > 3:\n",
    "    print(\"x es mayor que 3\")\n",
    "else:\n",
    "    print(\"x es menor o igual a 3\")"
   ]
  },
  {
   "cell_type": "code",
   "execution_count": null,
   "metadata": {},
   "outputs": [],
   "source": [
    "x = 1\n",
    "if x > 10:\n",
    "    print(\"x es mayor que 10\")\n",
    "elif x > 3:\n",
    "    print(\"x es mayor que 3\")\n",
    "else:\n",
    "    print(\"x es menor o igual a 3\")"
   ]
  },
  {
   "cell_type": "markdown",
   "metadata": {},
   "source": [
    "##### Bucles (Loops)\n",
    "\n",
    "Para poder realizar tareas repetitivas para un rango de datos podemos ocupar las palabres clave ```for``` o ```while```:\n",
    "- ```for```: Nos permite ejecutar un bloque de código para todos los valores de un rango o colección.\n",
    "- ```while```: Nos permite ejecutar un bloque de código mientras se cumpla una condición (Cuidado con las condiciones siempre verdaderas!)"
   ]
  },
  {
   "cell_type": "code",
   "execution_count": null,
   "metadata": {},
   "outputs": [],
   "source": [
    "# Uso de for\n",
    "for i in range(0,5):\n",
    "    print(i)"
   ]
  },
  {
   "cell_type": "code",
   "execution_count": null,
   "metadata": {},
   "outputs": [],
   "source": [
    "# Podemos iterar sobre los elementos de una lista:\n",
    "for elemento in my_list:\n",
    "    print(elemento)"
   ]
  },
  {
   "cell_type": "code",
   "execution_count": null,
   "metadata": {},
   "outputs": [],
   "source": [
    "# También podemos iterar sobre los pares llave-valor de un diccionario:\n",
    "for llave, valor in my_dict.items():\n",
    "    print(f\"Llave: {llave} - Valor: {valor}\")"
   ]
  },
  {
   "cell_type": "code",
   "execution_count": null,
   "metadata": {},
   "outputs": [],
   "source": [
    "# Uso de while:\n",
    "i = 0\n",
    "while i < 5:\n",
    "    print(i)\n",
    "    i = i+1"
   ]
  },
  {
   "cell_type": "markdown",
   "metadata": {},
   "source": [
    "##### Comprensión de Listas (List Comprehension)\n",
    "La iteración y el control de flujo nos habilita esta herramienta muy útil. Con ella podemos crear listas basadas en otras colecciones:\n"
   ]
  },
  {
   "cell_type": "code",
   "execution_count": null,
   "metadata": {},
   "outputs": [],
   "source": [
    "# Podemos crear una lista que tenga todos los valores de nuestro diccionario con una sola línea\n",
    "dict_values = [value for key, value in my_dict.items()]\n",
    "print(my_dict)\n",
    "print(dict_values)"
   ]
  },
  {
   "cell_type": "code",
   "execution_count": null,
   "metadata": {},
   "outputs": [],
   "source": [
    "# Podemos crear una lista que solo tenga los elementos de tipo entero de nuestra lista original\n",
    "int_list = [element for element in my_list if type(element) == int]\n",
    "print(my_list)\n",
    "print(int_list)"
   ]
  },
  {
   "cell_type": "code",
   "execution_count": null,
   "metadata": {},
   "outputs": [],
   "source": [
    "# También podemos crear diccionarios! En este caso es un diccionario que tiene como llaves los valores de nuestra lista de enteros\n",
    "# y como valores sus cuadrados\n",
    "square_dict = {el: el**2 for el in int_list}\n",
    "print(square_dict)"
   ]
  },
  {
   "cell_type": "markdown",
   "metadata": {},
   "source": [
    "#### 1.5 Funciones\n",
    "\n",
    "Las funciones nos permiten guardar una serie de instrucciones que queramos usar repetidamente en una sola línea de código.\n",
    "\n",
    "En Python se declaran usando la palabra clave ```def```:\n",
    "```\n",
    "def my_function(x):\n",
    "    ...\n",
    "    return value\n",
    "```\n",
    "\n",
    "Las funciones pueden recibir argumentos, que son valores que se usan dentro de su lógica."
   ]
  },
  {
   "cell_type": "code",
   "execution_count": null,
   "metadata": {},
   "outputs": [],
   "source": [
    "# Esta función va a retornar el cuadrado del argumento que le entreguemos, más 1\n",
    "def get_square_plus_one(x):\n",
    "    return x**2 + 1"
   ]
  },
  {
   "cell_type": "code",
   "execution_count": null,
   "metadata": {},
   "outputs": [],
   "source": [
    "for i in range(0,5):\n",
    "    print(f\"Input: {i}, Output: {get_square_plus_one(i)}\")"
   ]
  },
  {
   "cell_type": "code",
   "execution_count": null,
   "metadata": {},
   "outputs": [],
   "source": [
    "# Se pueden definir valores por defecto para los argumentos\n",
    "# Esta función va a retornar el cuadrado del primer argumento, más el valor del segundo argumento\n",
    "# Si no le entregamos un segundo argumento, va a usar por defecto el valor 1.\n",
    "def get_square_plus_y(x, y = 1):\n",
    "    return x**2 + y"
   ]
  },
  {
   "cell_type": "code",
   "execution_count": null,
   "metadata": {},
   "outputs": [],
   "source": [
    "for i in range(0,5):\n",
    "    print(f\"Input: {i}, Output: {get_square_plus_y(i, 4)}\")"
   ]
  },
  {
   "cell_type": "code",
   "execution_count": null,
   "metadata": {},
   "outputs": [],
   "source": [
    "for i in range(0,5):\n",
    "    print(f\"Input: {i}, Output: {get_square_plus_y(i)}\")"
   ]
  },
  {
   "cell_type": "markdown",
   "metadata": {},
   "source": [
    "### 2. SQL"
   ]
  },
  {
   "cell_type": "markdown",
   "metadata": {},
   "source": [
    "Structured Query Language (SQL) es el lenguaje dominante para operaciones de almacenamiento, manipulación y consulta de bases de datos relacionales. \\\n",
    "\n",
    "No está dentro de los objetivos del curso enseñarles a usar SQL pero es una herramienta fundamental para el trabajo con datos en la vida real. \\\n",
    "Por eso vamos a ejecutar algunas consultas de ejemplo usando el sitio: https://www.sql-practice.com/ \\\n",
    "Si no conocen SQL aún, un buen recurso para empezar a aprender es: https://www.w3schools.com/sql/default.asp \n",
    "\n",
    "Ejemplos:\n",
    "\n",
    "1. Q: Show first name, last name, and gender of patients whose gender is 'M' \\\n",
    "A: ```SELECT first_name, last_name, gender FROM patients WHERE gender = \"M\";```\n",
    "\n",
    "2. Q: Show first name of patients that start with the letter 'C' \\\n",
    "A: ```SELECT first_name FROM patients WHERE SUBSTRING(first_name,1,1) = \"C\"```\n",
    "\n",
    "3. Q: Show first name, last name, and the full province name of each patient. Example: 'Ontario' instead of 'ON' \\\n",
    "A: ```SELECT p.first_name, p.last_name, prov.province_name\n",
    "FROM patients p\n",
    "LEFT JOIN\n",
    "province_names prov\n",
    "USING(province_id)```"
   ]
  },
  {
   "cell_type": "markdown",
   "metadata": {},
   "source": [
    "### 3. Git"
   ]
  },
  {
   "cell_type": "markdown",
   "metadata": {},
   "source": [
    "Git es un sistema de control de versiones distribuido utilizado para rastrear cambios en el código fuente durante el desarrollo de software. Permite a múltiples desarrolladores colaborar en proyectos, llevar un registro de sus cambios y gestionar el historial del proyecto. \\\n",
    "\n",
    "Conceptos clave:\n",
    "- Repositorio (Repo): Git almacena toda la información sobre un proyecto en una estructura de datos llamada repositorio. Incluye los archivos del proyecto y un registro de todos los cambios realizados en esos archivos.\n",
    "\n",
    "- Repositorio local: Cada desarrollador que trabaja en un proyecto tiene su propio repositorio local, que es una copia del repositorio del proyecto almacenado en su computadora.\n",
    "\n",
    "- Repositorio remoto: Un repositorio remoto es una copia del repositorio del proyecto que se almacena en un servidor, generalmente utilizado para la colaboración entre desarrolladores. Un ejemplo de plataforma que les permite tener un repositorio remoto es GitHub.\n",
    "\n",
    "- Commit: Un commit es una foto del proyecto en un punto específico en el tiempo. Cada vez que quieran que sus cambios queden guardados en la historia del proyecto deben hace un commit.\n",
    "\n",
    "- Rama (Branch): Una rama es una línea de desarrollo separada (piensen en un universo paralelo). Los desarrolladores pueden crear ramas para trabajar en nuevas funciones o correcciones de errores sin afectar el código base principal. Las ramas pueden fusionarse de nuevo en el código principal cuando los cambios estén listos.\n",
    "\n",
    "- Merge: Fusionar es el proceso de combinar los cambios de una rama en otra. Esto se hace típicamente para incorporar los cambios de una rama de características en el código base principal.\n",
    "\n",
    "- Pull: Pull es el proceso de obtener cambios de un repositorio remoto y fusionarlos en tu repositorio local. Es una combinación de las operaciones de fetch y merge. MUY IMPORTANTE hacer un pull antes de crear una rama nueva, así nos aseguramos de tener la versión más actual del código y no tener que estar peleando después para resolver conflictos entre sus cambios y los que hizo alguien más.\n",
    "\n",
    "- Push: Push es el proceso de subir tus cambios locales a un repositorio remoto. Esto hace que tus cambios estén disponibles para otros desarrolladores que trabajan en el proyecto.\n",
    "\n",
    "Ejemplo (de juguete) de uso de Git:\n",
    "```bash\n",
    "$ cd # Cambiamos de directorio a nuestra carpeta base\n",
    "$ mkdir example-repo # Creamos una nueva carpeta llamada example-repo para guardar nuestros archivos\n",
    "$ cd example-repo # Cambiamos de directorio a nuestra nueva carpeta\n",
    "$ git init # Inicializamos un repositorio de Git\n",
    "$ git status # Consultamos el estado actual de nuestra rama de trabajo\n",
    "$ echo Hola Mundo! >> hola.txt # Creamos un archivo de texto llamado hola.txt que dice \"Hola Mundo!\"\n",
    "$ cat hola.txt # Leemos lo que está en nuestro archivo hola.txt\n",
    "$ git status # Consultamos el estado actual de la rama. Nos indica que hay cambios no commiteados\n",
    "$ git add hola.txt # Agregamos nuestro archivo a los cambios a commitear\n",
    "$ git commit -m \"Added hola text file\" # Commiteamos nuestros cambios con un mensaje descriptivo\n",
    "$ git status # Consultamos el estado actual de nuestra rama. No hay cambios por commitear\n",
    "$ git checkout -b new_branch # Creamos una rama nueva a partir del estado actual del proyecto\n",
    "$ echo Adios Mundo! >> hola.txt # Agregamos una nueva linea al archivo hola.txt\n",
    "$ cat hola.txt # Leemos la nueva version del archivo hola.txt\n",
    "$ git status # Tenemos cambios por commitear\n",
    "$ git add hola.txt # Preparamos nuestros cambios para ser commiteados\n",
    "$ git commit -m \"Added new text to file\" # Commiteamos con un mensaje descriptivo\n",
    "$ git checkout master # Volvemos a nuestra rama original previa a modificar el archivo de texto\n",
    "$ cat hola.txt # Al leer el archivo, vemos la version original!\n",
    "$ git merge new_branch # Como estamos seguros de que el texto que agregamos esta bien, mergeamos las ramas\n",
    "$ cat hola.txt\n",
    "```"
   ]
  },
  {
   "cell_type": "markdown",
   "metadata": {},
   "source": [
    "##### Cómo se usa esto en la práctica?\n",
    "Aquí pueden leer más sobre un paradigma de Git Flow, si es que quieren aprender más: https://www.bitbull.it/en/blog/how-git-flow-works/"
   ]
  }
 ],
 "metadata": {
  "kernelspec": {
   "display_name": "Python 3",
   "language": "python",
   "name": "python3"
  },
  "language_info": {
   "codemirror_mode": {
    "name": "ipython",
    "version": 3
   },
   "file_extension": ".py",
   "mimetype": "text/x-python",
   "name": "python",
   "nbconvert_exporter": "python",
   "pygments_lexer": "ipython3",
   "version": "3.10.4"
  },
  "orig_nbformat": 4
 },
 "nbformat": 4,
 "nbformat_minor": 2
}
